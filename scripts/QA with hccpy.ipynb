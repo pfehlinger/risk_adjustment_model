{
 "cells": [
  {
   "cell_type": "code",
   "execution_count": 1,
   "id": "148ccfe1-1424-4c50-8bee-f535f819d075",
   "metadata": {},
   "outputs": [],
   "source": [
    "import pandas as pd\n",
    "import time\n",
    "from math import isclose\n",
    "\n",
    "from hccpy.hcc import HCCEngine\n",
    "from risk_adjustment_model import MedicareModelV24, MedicareModelV28\n",
    "\n",
    "he_v28 = HCCEngine(\"28\")\n",
    "he_v24 = HCCEngine(\"24\", norm_params={\"C\": 1.118})\n",
    "ra_v24 = MedicareModelV24(year=2022) #hccpy looks like it has only loaded up to 2022\n",
    "ra_v28 = MedicareModelV28()\n",
    "\n",
    "df_demo = pd.read_csv('test_demo_dataset_10k.txt', sep='|')\n",
    "df_diag = pd.read_csv('test_dataset_10k.txt', sep='|')\n",
    "\n",
    "demographics = df_demo.set_index('member_id')\n",
    "diagnoses = df_diag.set_index('member_id')"
   ]
  },
  {
   "cell_type": "code",
   "execution_count": 2,
   "id": "a5a51e13-c89c-4ca1-ba5a-a45b9009298d",
   "metadata": {},
   "outputs": [
    {
     "name": "stdout",
     "output_type": "stream",
     "text": [
      "Execution time: 142.35359907150269\n"
     ]
    }
   ],
   "source": [
    "start_time = time.time()\n",
    "\n",
    "hcc_v24_results_dict = {}\n",
    "hcc_v28_results_dict = {}\n",
    "model_v24_results_dict = {}\n",
    "model_v28_results_dict = {}\n",
    "\n",
    "# loop over people\n",
    "#--------------------------------------------------------------------\n",
    "for row in demographics.itertuples():\n",
    "\n",
    "    # put input demographic data into local variables\n",
    "    #--------------------------------------------------------------------\n",
    "    member_id = row.Index\n",
    "    gender = row.gender\n",
    "    ltimcaid = row.medicaid\n",
    "    orec = row.orec\n",
    "    age = row.age\n",
    "\n",
    "    if member_id in diagnoses.index:\n",
    "        if len(diagnoses.loc[member_id]) == 1:\n",
    "            diagnosis_for_pt = list(diagnoses.loc[member_id]['dx_code'])\n",
    "        else:\n",
    "            diagnoses_for_pt = diagnoses.loc[member_id]['dx_code'].to_list()\n",
    "    else:\n",
    "        diagnoses_for_pt = []\n",
    "\n",
    "    for elig in [\"CNA\", \"CND\", \"CPA\", \"CPD\", \"CFA\", \"CFD\", \"NE\", \"INS\"]:\n",
    "        results_hcc_v24 = he_v24.profile(diagnoses_for_pt, age=age, sex=gender, elig=elig, orec=orec, medicaid=ltimcaid)\n",
    "        results_hcc_v28 = he_v28.profile(diagnoses_for_pt, age=age, sex=gender, elig=elig, orec=orec, medicaid=ltimcaid)\n",
    "        results_v24 = ra_v24.score(gender=gender, orec=orec, medicaid=ltimcaid, diagnosis_codes=diagnoses_for_pt, age=age, population=elig)\n",
    "        results_v28 = ra_v28.score(gender=gender, orec=orec, medicaid=ltimcaid, diagnosis_codes=diagnoses_for_pt, age=age, population=elig)\n",
    "    \n",
    "        if not isclose(results_hcc_v24['risk_score'], results_v24.score_raw):\n",
    "            hcc_v24_results_dict[elig+\"|\"+member_id] = results_hcc_v24\n",
    "            model_v24_results_dict[elig+\"|\"+member_id] = results_v24\n",
    "    \n",
    "        if not isclose(results_hcc_v28['risk_score'], results_v28.score_raw):\n",
    "            hcc_v28_results_dict[elig+\"|\"+member_id] = results_hcc_v28\n",
    "            model_v28_results_dict[elig+\"|\"+member_id] = results_v28\n",
    "\n",
    "end_time = time.time()\n",
    "execution_time = end_time - start_time\n",
    "\n",
    "print(\"Execution time:\", execution_time)"
   ]
  },
  {
   "cell_type": "code",
   "execution_count": 4,
   "id": "d0827627-ef62-427a-9836-ab39ad24d81d",
   "metadata": {
    "scrolled": true
   },
   "outputs": [
    {
     "data": {
      "text/plain": [
       "{}"
      ]
     },
     "execution_count": 4,
     "metadata": {},
     "output_type": "execute_result"
    }
   ],
   "source": [
    "model_v28_results_dict"
   ]
  },
  {
   "cell_type": "code",
   "execution_count": 25,
   "id": "9c620789-471d-4f35-975b-4b4e37ae9259",
   "metadata": {},
   "outputs": [
    {
     "data": {
      "text/plain": [
       "['HCC40',\n",
       " 'HCC72',\n",
       " 'HCC173',\n",
       " 'HCC35',\n",
       " 'HCC167',\n",
       " 'HCC55',\n",
       " 'HCC170',\n",
       " 'HCC188',\n",
       " 'HCC75',\n",
       " 'HCC59',\n",
       " 'HCC2',\n",
       " 'HCC18',\n",
       " 'HCC39',\n",
       " 'HCC10',\n",
       " 'HCC100',\n",
       " 'HCC189',\n",
       " 'D10P',\n",
       " 'gSubstanceUseDisorder_gPsych',\n",
       " 'SEPSIS_ARTIF_OPENINGS']"
      ]
     },
     "execution_count": 25,
     "metadata": {},
     "output_type": "execute_result"
    }
   ],
   "source": [
    "hcc_v24_results_dict['INS|a2c8e158-2518-40c3-b61e-6a368062a762']['hcc_lst']\n"
   ]
  },
  {
   "cell_type": "code",
   "execution_count": 26,
   "id": "999f5b99-440f-4fa7-b05d-5dea4f2e3de7",
   "metadata": {},
   "outputs": [
    {
     "data": {
      "text/plain": [
       "['F65_69',\n",
       " 'HCC40',\n",
       " 'HCC72',\n",
       " 'HCC173',\n",
       " 'HCC35',\n",
       " 'HCC167',\n",
       " 'HCC170',\n",
       " 'HCC55',\n",
       " 'HCC188',\n",
       " 'HCC75',\n",
       " 'HCC59',\n",
       " 'HCC2',\n",
       " 'HCC18',\n",
       " 'HCC39',\n",
       " 'HCC10',\n",
       " 'HCC100',\n",
       " 'HCC189',\n",
       " 'gSubstanceUseDisorder_gPsych',\n",
       " 'SEPSIS_ARTIF_OPENINGS',\n",
       " 'D10P']"
      ]
     },
     "execution_count": 26,
     "metadata": {},
     "output_type": "execute_result"
    }
   ],
   "source": [
    "model_v24_results_dict['INS|a2c8e158-2518-40c3-b61e-6a368062a762'].category_list"
   ]
  },
  {
   "cell_type": "code",
   "execution_count": 27,
   "id": "beed2065-c4ca-4bfc-a5bc-07f0ddd05e33",
   "metadata": {},
   "outputs": [
    {
     "data": {
      "text/plain": [
       "{'F65_69': {'coefficient': 1.245, 'diagnosis_map': None},\n",
       " 'HCC40': {'coefficient': 0.292,\n",
       "  'diagnosis_map': ['M06842', 'M05512', 'M488X7', 'M3214', 'M06031']},\n",
       " 'HCC72': {'coefficient': 0.289, 'diagnosis_map': ['S14157S']},\n",
       " 'HCC173': {'coefficient': 0.092, 'diagnosis_map': ['S58119A']},\n",
       " 'HCC35': {'coefficient': 0.355, 'diagnosis_map': ['K51311']},\n",
       " 'HCC167': {'coefficient': 0.0, 'diagnosis_map': ['S02112S']},\n",
       " 'HCC170': {'coefficient': 0.0, 'diagnosis_map': ['S72436C']},\n",
       " 'HCC55': {'coefficient': 0.178, 'diagnosis_map': ['F1114', 'F13988']},\n",
       " 'HCC188': {'coefficient': 0.514, 'diagnosis_map': ['K9411']},\n",
       " 'HCC75': {'coefficient': 0.332, 'diagnosis_map': ['M05512']},\n",
       " 'HCC59': {'coefficient': 0.187, 'diagnosis_map': ['T592X2S']},\n",
       " 'HCC2': {'coefficient': 0.324, 'diagnosis_map': ['P0270', 'R6510']},\n",
       " 'HCC18': {'coefficient': 0.44, 'diagnosis_map': ['E0943']},\n",
       " 'HCC39': {'coefficient': 0.401, 'diagnosis_map': ['M02839']},\n",
       " 'HCC10': {'coefficient': 0.461, 'diagnosis_map': ['C8286', 'C8175', 'C9590']},\n",
       " 'HCC100': {'coefficient': 0.111, 'diagnosis_map': ['I6330']},\n",
       " 'HCC189': {'coefficient': 0.357, 'diagnosis_map': ['S98912D']},\n",
       " 'gSubstanceUseDisorder_gPsych': {'coefficient': 0.0, 'diagnosis_map': []},\n",
       " 'SEPSIS_ARTIF_OPENINGS': {'coefficient': 0.474, 'diagnosis_map': []},\n",
       " 'D10P': {'coefficient': 0.0, 'diagnosis_map': []}}"
      ]
     },
     "execution_count": 27,
     "metadata": {},
     "output_type": "execute_result"
    }
   ],
   "source": [
    "model_v24_results_dict['INS|a2c8e158-2518-40c3-b61e-6a368062a762'].category_details"
   ]
  },
  {
   "cell_type": "code",
   "execution_count": 28,
   "id": "ae63412f-ded4-4566-90fb-01ba9df249ac",
   "metadata": {},
   "outputs": [
    {
     "data": {
      "text/plain": [
       "{'risk_score': 6.113,\n",
       " 'risk_score_age': 1.306,\n",
       " 'risk_score_adj': 5.1452,\n",
       " 'risk_score_age_adj': 1.0992,\n",
       " 'details': {'INS_F65_69': 1.245,\n",
       "  'INS_LTIMCAID': 0.061,\n",
       "  'INS_HCC40': 0.292,\n",
       "  'INS_HCC72': 0.289,\n",
       "  'INS_HCC173': 0.092,\n",
       "  'INS_HCC35': 0.355,\n",
       "  'INS_HCC167': 0.0,\n",
       "  'INS_HCC55': 0.178,\n",
       "  'INS_HCC170': 0.0,\n",
       "  'INS_HCC188': 0.514,\n",
       "  'INS_HCC75': 0.332,\n",
       "  'INS_HCC59': 0.187,\n",
       "  'INS_HCC2': 0.324,\n",
       "  'INS_HCC18': 0.44,\n",
       "  'INS_HCC39': 0.401,\n",
       "  'INS_HCC10': 0.461,\n",
       "  'INS_HCC100': 0.111,\n",
       "  'INS_HCC189': 0.357,\n",
       "  'INS_D10P': 0.0,\n",
       "  'INS_gSubstanceUseDisorder_gPsych': 0.0,\n",
       "  'INS_SEPSIS_ARTIF_OPENINGS': 0.474},\n",
       " 'hcc_lst': ['HCC40',\n",
       "  'HCC72',\n",
       "  'HCC173',\n",
       "  'HCC35',\n",
       "  'HCC167',\n",
       "  'HCC55',\n",
       "  'HCC170',\n",
       "  'HCC188',\n",
       "  'HCC75',\n",
       "  'HCC59',\n",
       "  'HCC2',\n",
       "  'HCC18',\n",
       "  'HCC39',\n",
       "  'HCC10',\n",
       "  'HCC100',\n",
       "  'HCC189',\n",
       "  'D10P',\n",
       "  'gSubstanceUseDisorder_gPsych',\n",
       "  'SEPSIS_ARTIF_OPENINGS'],\n",
       " 'hcc_map': {'C8286': ['HCC10'],\n",
       "  'F1114': ['HCC55'],\n",
       "  'R6510': ['HCC2'],\n",
       "  'S14157S': ['HCC72'],\n",
       "  'M06842': ['HCC40'],\n",
       "  'S72436C': ['HCC170'],\n",
       "  'C9590': ['HCC10'],\n",
       "  'S02112S': ['HCC167'],\n",
       "  'K9411': ['HCC188'],\n",
       "  'K51311': ['HCC35'],\n",
       "  'C8175': ['HCC10'],\n",
       "  'C50922': ['HCC12'],\n",
       "  'S98912D': ['HCC189'],\n",
       "  'M3214': ['HCC40'],\n",
       "  'F13988': ['HCC55'],\n",
       "  'E0943': ['HCC18'],\n",
       "  'P0270': ['HCC2'],\n",
       "  'M06031': ['HCC40'],\n",
       "  'M02839': ['HCC39'],\n",
       "  'M488X7': ['HCC40'],\n",
       "  'M05512': ['HCC40', 'HCC75'],\n",
       "  'T592X2S': ['HCC59'],\n",
       "  'I6330': ['HCC100'],\n",
       "  'S58119A': ['HCC173']},\n",
       " 'parameters': {'age': 65,\n",
       "  'sex': 'F',\n",
       "  'elig': 'INS',\n",
       "  'medicaid': True,\n",
       "  'disabled': 0,\n",
       "  'origds': 0},\n",
       " 'model': '24'}"
      ]
     },
     "execution_count": 28,
     "metadata": {},
     "output_type": "execute_result"
    }
   ],
   "source": [
    "hcc_v24_results_dict['INS|a2c8e158-2518-40c3-b61e-6a368062a762']"
   ]
  },
  {
   "cell_type": "code",
   "execution_count": null,
   "id": "26b64cdc-5ede-47ef-8b66-5ef54a808b60",
   "metadata": {},
   "outputs": [],
   "source": []
  },
  {
   "cell_type": "code",
   "execution_count": 6,
   "id": "5b83655f-61a2-413d-a89a-d22081ca01db",
   "metadata": {},
   "outputs": [
    {
     "data": {
      "text/plain": [
       "ScoringResults(gender='F', orec=1, medicaid=True, age=85, dob=None, diagnosis_codes=['S14157S', 'C8286', 'M06842', 'M05512', 'M488X7'], year=2022, population='INS', risk_model_age=85, risk_model_population='INS', model_version='v24', model_year=2022, coding_intensity_adjuster=0.941, normalization_factor=1.118, score_raw=2.233, disease_score_raw=1.374, demographic_score_raw=0.859, score=1.8795, disease_score=1.1564, demographic_score=0.723, category_list=['F85_89', 'LTIMCAID', 'HCC75', 'HCC40', 'HCC10', 'HCC72', 'D4'], category_details={'F85_89': {'coefficient': 0.798, 'diagnosis_map': None}, 'LTIMCAID': {'coefficient': 0.061, 'diagnosis_map': None}, 'HCC75': {'coefficient': 0.332, 'diagnosis_map': ['M05512']}, 'HCC40': {'coefficient': 0.292, 'diagnosis_map': ['M06842', 'M05512', 'M488X7']}, 'HCC10': {'coefficient': 0.461, 'diagnosis_map': ['C8286']}, 'HCC72': {'coefficient': 0.289, 'diagnosis_map': ['S14157S']}, 'D4': {'coefficient': 0.0, 'diagnosis_map': None}})"
      ]
     },
     "execution_count": 6,
     "metadata": {},
     "output_type": "execute_result"
    }
   ],
   "source": [
    "results_v24"
   ]
  },
  {
   "cell_type": "code",
   "execution_count": null,
   "id": "2398a8f3-febb-4a93-8d24-2126509f0b1b",
   "metadata": {},
   "outputs": [],
   "source": []
  },
  {
   "cell_type": "code",
   "execution_count": null,
   "id": "b9134a76-99b6-47f9-80ad-b4a7e7bf7c88",
   "metadata": {},
   "outputs": [],
   "source": [
    "unique_disease_cats"
   ]
  },
  {
   "cell_type": "code",
   "execution_count": null,
   "id": "36cda13f-dbfb-45a5-bc0c-0a55fc367fee",
   "metadata": {},
   "outputs": [],
   "source": [
    "\n",
    "dx_codes = ['S14157S', 'C8286', 'M06842', 'M05512', 'M488X7', 'P0270', 'C50922', 'K51311', 'M3214', 'S72436C', 'E0943', \n",
    "            'C8175', 'S068AAS', 'F1114', 'M06031', 'M02839',\n",
    "            'S02112S', 'C9590', 'K9411', 'I6330', 'R6510', 'S98912D', 'T592X2S', 'F13988', 'S58119A']\n",
    "\n",
    "rp_v28 = he_v28.profile(dx_codes,\n",
    "                    age=65, sex=\"F\", elig='NE') \n",
    "# rp_v24 = he_v24.profile(bene_obj.diagnosis_codes,\n",
    "#                     age=bene_obj.age, sex=\"F\", elig=\"CND\") "
   ]
  },
  {
   "cell_type": "code",
   "execution_count": null,
   "id": "8e5a31b9-2b75-4bf8-9eec-58fa90ba3efe",
   "metadata": {},
   "outputs": [],
   "source": [
    "rp_v28"
   ]
  },
  {
   "cell_type": "code",
   "execution_count": null,
   "id": "45e46165-067b-4709-ab6d-60310e2774c8",
   "metadata": {},
   "outputs": [],
   "source": [
    "def _get_demographic_cats(age, gender, population):\n",
    "        \"\"\"\n",
    "        Determine the demographic category based on age and gender.\n",
    "\n",
    "        Args:\n",
    "            age (int): The age of the individual.\n",
    "            gender (str): The gender of the individual ('Male', 'Female', etc.).\n",
    "\n",
    "        Returns:\n",
    "            str: The demographic category of the individual.\n",
    "\n",
    "        Notes:\n",
    "            This function determines the demographic category of an individual based on their age and gender. \n",
    "            It assigns individuals to predefined demographic categories, such as age and gender bands, \n",
    "            defined as 'F0_34', 'M35_44', etc. The categories are hard-coded within the function.\n",
    "            \n",
    "            The function iterates through the predefined demographic categories and checks if the provided \n",
    "            age falls within the range specified for each category. Once a matching category is found, \n",
    "            it returns that category.\n",
    "        \"\"\"\n",
    "        # PF: Might want to refactor to use yaml/json with demographic type to get the categories\n",
    "        if population[:2] == 'NE':\n",
    "            demo_category_ranges = [\n",
    "                '0_34', '35_44', '45_54', '55_59', '60_64',\n",
    "                '65', '66', '67', '68', '69', '70_74', \n",
    "                '75_79', '80_84', '85_89', '90_94', '95_GT',\n",
    "            ]\n",
    "        else:\n",
    "            demo_category_ranges = [\n",
    "                '0_34', '35_44', '45_54', '55_59', '60_64',\n",
    "                '65_69', '70_74', '75_79', '80_84', '85_89', \n",
    "                '90_94', '95_GT',\n",
    "            ]\n",
    "        \n",
    "        for age_range in demo_category_ranges:\n",
    "            age_band = age_range.replace(gender, '').split('_') \n",
    "            lower, upper = 0, 999\n",
    "            if len(age_band) == 1:\n",
    "                lower = int(age_band[0])\n",
    "                upper = lower + 1\n",
    "            elif age_band[1] == 'GT':\n",
    "                lower = int(age_band[0])\n",
    "            else: \n",
    "                lower = int(age_band[0])\n",
    "                upper = int(age_band[1]) + 1\n",
    "            if lower <= age < upper:\n",
    "                demographic_category_range = age_range\n",
    "                break\n",
    "\n",
    "        if population[:2] == 'NE':\n",
    "            demographic_category = f'NE{gender}{demographic_category_range}'\n",
    "        else:\n",
    "            demographic_category = f'{gender}{demographic_category_range}'\n",
    "\n",
    "        return demographic_category"
   ]
  },
  {
   "cell_type": "code",
   "execution_count": null,
   "id": "4acdcff6-e07e-4c9b-a1e8-f9d7d21b2305",
   "metadata": {},
   "outputs": [],
   "source": [
    "cat = _get_demographic_cats(65, 'F', 'NE_MCAID_ORIGDIS')"
   ]
  },
  {
   "cell_type": "code",
   "execution_count": null,
   "id": "86a01402-972a-4ad2-b8ec-3f4680eb1ee4",
   "metadata": {},
   "outputs": [],
   "source": [
    "cat"
   ]
  }
 ],
 "metadata": {
  "kernelspec": {
   "display_name": "Python 3 (ipykernel)",
   "language": "python",
   "name": "python3"
  },
  "language_info": {
   "codemirror_mode": {
    "name": "ipython",
    "version": 3
   },
   "file_extension": ".py",
   "mimetype": "text/x-python",
   "name": "python",
   "nbconvert_exporter": "python",
   "pygments_lexer": "ipython3",
   "version": "3.12.3"
  }
 },
 "nbformat": 4,
 "nbformat_minor": 5
}
